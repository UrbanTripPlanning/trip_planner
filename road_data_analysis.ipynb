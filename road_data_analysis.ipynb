{
 "cells": [
  {
   "cell_type": "code",
   "id": "initial_id",
   "metadata": {
    "collapsed": true,
    "ExecuteTime": {
     "end_time": "2025-04-23T09:49:20.906674Z",
     "start_time": "2025-04-23T09:49:20.899587Z"
    }
   },
   "source": [
    "import pandas as pd\n",
    "import matplotlib.pyplot as plt\n",
    "import seaborn as sns\n",
    "import numpy as np"
   ],
   "outputs": [],
   "execution_count": 115
  },
  {
   "metadata": {
    "ExecuteTime": {
     "end_time": "2025-04-23T09:49:21.280485Z",
     "start_time": "2025-04-23T09:49:21.178773Z"
    }
   },
   "cell_type": "code",
   "source": [
    "v_medie = pd.read_csv('./export_5t/export_polito_velocita_medie_feriali_nov2024.csv')\n",
    "traffico = pd.read_csv('./polito_sensors_vittorio/polito_sensors_vittorio_data.csv', index_col=0)\n",
    "pioggia = pd.read_csv('./meteo/TORINO GIARDINI REALI_p.csv', index_col=0)"
   ],
   "id": "b0b83e10234b970f",
   "outputs": [],
   "execution_count": 116
  },
  {
   "metadata": {
    "ExecuteTime": {
     "end_time": "2025-04-23T09:49:21.470218Z",
     "start_time": "2025-04-23T09:49:21.460066Z"
    }
   },
   "cell_type": "code",
   "source": [
    "pioggia.drop(columns=['Precipitazione classe'], inplace=True)\n",
    "pioggia.index = pd.to_datetime(pioggia.index, utc=True)\n",
    "pioggia.rename({'Precipitazione (mm)': 'precip'}, axis=1, inplace=True)"
   ],
   "id": "26c79dd5373286b9",
   "outputs": [],
   "execution_count": 117
  },
  {
   "metadata": {
    "ExecuteTime": {
     "end_time": "2025-04-23T09:49:21.741873Z",
     "start_time": "2025-04-23T09:49:21.723872Z"
    }
   },
   "cell_type": "code",
   "source": "pioggia.head()",
   "id": "d36a4a020e2e7f04",
   "outputs": [
    {
     "data": {
      "text/plain": [
       "                           precip\n",
       "DATA                             \n",
       "2024-01-01 00:00:00+00:00     0.0\n",
       "2024-01-02 00:00:00+00:00     0.2\n",
       "2024-01-03 00:00:00+00:00     0.0\n",
       "2024-01-04 00:00:00+00:00     0.0\n",
       "2024-01-05 00:00:00+00:00    23.6"
      ],
      "text/html": [
       "<div>\n",
       "<style scoped>\n",
       "    .dataframe tbody tr th:only-of-type {\n",
       "        vertical-align: middle;\n",
       "    }\n",
       "\n",
       "    .dataframe tbody tr th {\n",
       "        vertical-align: top;\n",
       "    }\n",
       "\n",
       "    .dataframe thead th {\n",
       "        text-align: right;\n",
       "    }\n",
       "</style>\n",
       "<table border=\"1\" class=\"dataframe\">\n",
       "  <thead>\n",
       "    <tr style=\"text-align: right;\">\n",
       "      <th></th>\n",
       "      <th>precip</th>\n",
       "    </tr>\n",
       "    <tr>\n",
       "      <th>DATA</th>\n",
       "      <th></th>\n",
       "    </tr>\n",
       "  </thead>\n",
       "  <tbody>\n",
       "    <tr>\n",
       "      <th>2024-01-01 00:00:00+00:00</th>\n",
       "      <td>0.0</td>\n",
       "    </tr>\n",
       "    <tr>\n",
       "      <th>2024-01-02 00:00:00+00:00</th>\n",
       "      <td>0.2</td>\n",
       "    </tr>\n",
       "    <tr>\n",
       "      <th>2024-01-03 00:00:00+00:00</th>\n",
       "      <td>0.0</td>\n",
       "    </tr>\n",
       "    <tr>\n",
       "      <th>2024-01-04 00:00:00+00:00</th>\n",
       "      <td>0.0</td>\n",
       "    </tr>\n",
       "    <tr>\n",
       "      <th>2024-01-05 00:00:00+00:00</th>\n",
       "      <td>23.6</td>\n",
       "    </tr>\n",
       "  </tbody>\n",
       "</table>\n",
       "</div>"
      ]
     },
     "execution_count": 118,
     "metadata": {},
     "output_type": "execute_result"
    }
   ],
   "execution_count": 118
  },
  {
   "metadata": {
    "ExecuteTime": {
     "end_time": "2025-04-23T09:49:22.173509Z",
     "start_time": "2025-04-23T09:49:22.146514Z"
    }
   },
   "cell_type": "code",
   "source": "traffico.info()",
   "id": "db3972b4cb5b2269",
   "outputs": [
    {
     "name": "stdout",
     "output_type": "stream",
     "text": [
      "<class 'pandas.core.frame.DataFrame'>\n",
      "Index: 44870 entries, 0 to 4373\n",
      "Data columns (total 10 columns):\n",
      " #   Column                   Non-Null Count  Dtype  \n",
      "---  ------                   --------------  -----  \n",
      " 0   device_id                44870 non-null  int64  \n",
      " 1   data_location_id         44870 non-null  object \n",
      " 2   timestamp_record         44870 non-null  object \n",
      " 3   key                      44870 non-null  object \n",
      " 4   value                    44870 non-null  float64\n",
      " 5   accuracy                 44870 non-null  int64  \n",
      " 6   quality_automatic_check  6121 non-null   object \n",
      " 7   quality_manual_check     0 non-null      float64\n",
      " 8   id_local                 44870 non-null  int64  \n",
      " 9   id_global                44870 non-null  object \n",
      "dtypes: float64(2), int64(3), object(5)\n",
      "memory usage: 3.8+ MB\n"
     ]
    }
   ],
   "execution_count": 119
  },
  {
   "metadata": {
    "ExecuteTime": {
     "end_time": "2025-04-23T09:49:22.446563Z",
     "start_time": "2025-04-23T09:49:22.424573Z"
    }
   },
   "cell_type": "code",
   "source": "traffico.describe()",
   "id": "6a3fc2ead5c7f85b",
   "outputs": [
    {
     "data": {
      "text/plain": [
       "          device_id         value      accuracy  quality_manual_check  \\\n",
       "count  44870.000000  44870.000000  44870.000000                   0.0   \n",
       "mean   44048.416046    333.057366     77.339492                   NaN   \n",
       "std    35628.695902    238.766144     27.632698                   NaN   \n",
       "min     1143.000000      0.000000      0.000000                   NaN   \n",
       "25%     1145.000000     98.000000     75.000000                   NaN   \n",
       "50%    73223.000000    334.000000     82.000000                   NaN   \n",
       "75%    73225.000000    524.000000     98.000000                   NaN   \n",
       "max    75176.000000    910.000000    100.000000                   NaN   \n",
       "\n",
       "           id_local  \n",
       "count  44870.000000  \n",
       "mean   44048.416046  \n",
       "std    35628.695902  \n",
       "min     1143.000000  \n",
       "25%     1145.000000  \n",
       "50%    73223.000000  \n",
       "75%    73225.000000  \n",
       "max    75176.000000  "
      ],
      "text/html": [
       "<div>\n",
       "<style scoped>\n",
       "    .dataframe tbody tr th:only-of-type {\n",
       "        vertical-align: middle;\n",
       "    }\n",
       "\n",
       "    .dataframe tbody tr th {\n",
       "        vertical-align: top;\n",
       "    }\n",
       "\n",
       "    .dataframe thead th {\n",
       "        text-align: right;\n",
       "    }\n",
       "</style>\n",
       "<table border=\"1\" class=\"dataframe\">\n",
       "  <thead>\n",
       "    <tr style=\"text-align: right;\">\n",
       "      <th></th>\n",
       "      <th>device_id</th>\n",
       "      <th>value</th>\n",
       "      <th>accuracy</th>\n",
       "      <th>quality_manual_check</th>\n",
       "      <th>id_local</th>\n",
       "    </tr>\n",
       "  </thead>\n",
       "  <tbody>\n",
       "    <tr>\n",
       "      <th>count</th>\n",
       "      <td>44870.000000</td>\n",
       "      <td>44870.000000</td>\n",
       "      <td>44870.000000</td>\n",
       "      <td>0.0</td>\n",
       "      <td>44870.000000</td>\n",
       "    </tr>\n",
       "    <tr>\n",
       "      <th>mean</th>\n",
       "      <td>44048.416046</td>\n",
       "      <td>333.057366</td>\n",
       "      <td>77.339492</td>\n",
       "      <td>NaN</td>\n",
       "      <td>44048.416046</td>\n",
       "    </tr>\n",
       "    <tr>\n",
       "      <th>std</th>\n",
       "      <td>35628.695902</td>\n",
       "      <td>238.766144</td>\n",
       "      <td>27.632698</td>\n",
       "      <td>NaN</td>\n",
       "      <td>35628.695902</td>\n",
       "    </tr>\n",
       "    <tr>\n",
       "      <th>min</th>\n",
       "      <td>1143.000000</td>\n",
       "      <td>0.000000</td>\n",
       "      <td>0.000000</td>\n",
       "      <td>NaN</td>\n",
       "      <td>1143.000000</td>\n",
       "    </tr>\n",
       "    <tr>\n",
       "      <th>25%</th>\n",
       "      <td>1145.000000</td>\n",
       "      <td>98.000000</td>\n",
       "      <td>75.000000</td>\n",
       "      <td>NaN</td>\n",
       "      <td>1145.000000</td>\n",
       "    </tr>\n",
       "    <tr>\n",
       "      <th>50%</th>\n",
       "      <td>73223.000000</td>\n",
       "      <td>334.000000</td>\n",
       "      <td>82.000000</td>\n",
       "      <td>NaN</td>\n",
       "      <td>73223.000000</td>\n",
       "    </tr>\n",
       "    <tr>\n",
       "      <th>75%</th>\n",
       "      <td>73225.000000</td>\n",
       "      <td>524.000000</td>\n",
       "      <td>98.000000</td>\n",
       "      <td>NaN</td>\n",
       "      <td>73225.000000</td>\n",
       "    </tr>\n",
       "    <tr>\n",
       "      <th>max</th>\n",
       "      <td>75176.000000</td>\n",
       "      <td>910.000000</td>\n",
       "      <td>100.000000</td>\n",
       "      <td>NaN</td>\n",
       "      <td>75176.000000</td>\n",
       "    </tr>\n",
       "  </tbody>\n",
       "</table>\n",
       "</div>"
      ]
     },
     "execution_count": 120,
     "metadata": {},
     "output_type": "execute_result"
    }
   ],
   "execution_count": 120
  },
  {
   "metadata": {
    "ExecuteTime": {
     "end_time": "2025-04-23T09:49:22.729850Z",
     "start_time": "2025-04-23T09:49:22.717854Z"
    }
   },
   "cell_type": "code",
   "source": "traffico.head()",
   "id": "10948649ba5d40c8",
   "outputs": [
    {
     "data": {
      "text/plain": [
       "   device_id data_location_id           timestamp_record        key  value  \\\n",
       "0      73224            pasta  2024-03-31 22:00:00+00:00  count_all   61.0   \n",
       "1       1143            pasta  2024-03-31 22:00:00+00:00  count_all  116.0   \n",
       "2      73223            pasta  2024-03-31 22:00:00+00:00  count_all   53.0   \n",
       "3      73225            pasta  2024-03-31 22:00:00+00:00  count_all  116.0   \n",
       "4       1145            pasta  2024-03-31 22:00:00+00:00  count_all  217.0   \n",
       "\n",
       "   accuracy quality_automatic_check  quality_manual_check  id_local  id_global  \n",
       "0        80                     NaN                   NaN     73224  car-73224  \n",
       "1        98                     NaN                   NaN      1143   car-1143  \n",
       "2        80                     NaN                   NaN     73223  car-73223  \n",
       "3        80                     NaN                   NaN     73225  car-73225  \n",
       "4       100                     NaN                   NaN      1145   car-1145  "
      ],
      "text/html": [
       "<div>\n",
       "<style scoped>\n",
       "    .dataframe tbody tr th:only-of-type {\n",
       "        vertical-align: middle;\n",
       "    }\n",
       "\n",
       "    .dataframe tbody tr th {\n",
       "        vertical-align: top;\n",
       "    }\n",
       "\n",
       "    .dataframe thead th {\n",
       "        text-align: right;\n",
       "    }\n",
       "</style>\n",
       "<table border=\"1\" class=\"dataframe\">\n",
       "  <thead>\n",
       "    <tr style=\"text-align: right;\">\n",
       "      <th></th>\n",
       "      <th>device_id</th>\n",
       "      <th>data_location_id</th>\n",
       "      <th>timestamp_record</th>\n",
       "      <th>key</th>\n",
       "      <th>value</th>\n",
       "      <th>accuracy</th>\n",
       "      <th>quality_automatic_check</th>\n",
       "      <th>quality_manual_check</th>\n",
       "      <th>id_local</th>\n",
       "      <th>id_global</th>\n",
       "    </tr>\n",
       "  </thead>\n",
       "  <tbody>\n",
       "    <tr>\n",
       "      <th>0</th>\n",
       "      <td>73224</td>\n",
       "      <td>pasta</td>\n",
       "      <td>2024-03-31 22:00:00+00:00</td>\n",
       "      <td>count_all</td>\n",
       "      <td>61.0</td>\n",
       "      <td>80</td>\n",
       "      <td>NaN</td>\n",
       "      <td>NaN</td>\n",
       "      <td>73224</td>\n",
       "      <td>car-73224</td>\n",
       "    </tr>\n",
       "    <tr>\n",
       "      <th>1</th>\n",
       "      <td>1143</td>\n",
       "      <td>pasta</td>\n",
       "      <td>2024-03-31 22:00:00+00:00</td>\n",
       "      <td>count_all</td>\n",
       "      <td>116.0</td>\n",
       "      <td>98</td>\n",
       "      <td>NaN</td>\n",
       "      <td>NaN</td>\n",
       "      <td>1143</td>\n",
       "      <td>car-1143</td>\n",
       "    </tr>\n",
       "    <tr>\n",
       "      <th>2</th>\n",
       "      <td>73223</td>\n",
       "      <td>pasta</td>\n",
       "      <td>2024-03-31 22:00:00+00:00</td>\n",
       "      <td>count_all</td>\n",
       "      <td>53.0</td>\n",
       "      <td>80</td>\n",
       "      <td>NaN</td>\n",
       "      <td>NaN</td>\n",
       "      <td>73223</td>\n",
       "      <td>car-73223</td>\n",
       "    </tr>\n",
       "    <tr>\n",
       "      <th>3</th>\n",
       "      <td>73225</td>\n",
       "      <td>pasta</td>\n",
       "      <td>2024-03-31 22:00:00+00:00</td>\n",
       "      <td>count_all</td>\n",
       "      <td>116.0</td>\n",
       "      <td>80</td>\n",
       "      <td>NaN</td>\n",
       "      <td>NaN</td>\n",
       "      <td>73225</td>\n",
       "      <td>car-73225</td>\n",
       "    </tr>\n",
       "    <tr>\n",
       "      <th>4</th>\n",
       "      <td>1145</td>\n",
       "      <td>pasta</td>\n",
       "      <td>2024-03-31 22:00:00+00:00</td>\n",
       "      <td>count_all</td>\n",
       "      <td>217.0</td>\n",
       "      <td>100</td>\n",
       "      <td>NaN</td>\n",
       "      <td>NaN</td>\n",
       "      <td>1145</td>\n",
       "      <td>car-1145</td>\n",
       "    </tr>\n",
       "  </tbody>\n",
       "</table>\n",
       "</div>"
      ]
     },
     "execution_count": 121,
     "metadata": {},
     "output_type": "execute_result"
    }
   ],
   "execution_count": 121
  },
  {
   "metadata": {
    "ExecuteTime": {
     "end_time": "2025-04-23T09:49:23.055773Z",
     "start_time": "2025-04-23T09:49:23.048367Z"
    }
   },
   "cell_type": "code",
   "source": "traffico.drop(columns=['data_location_id', 'quality_automatic_check', 'quality_manual_check', 'id_global', 'id_local'], inplace=True)",
   "id": "2123caa58c0c5b75",
   "outputs": [],
   "execution_count": 122
  },
  {
   "metadata": {
    "ExecuteTime": {
     "end_time": "2025-04-23T09:49:23.339217Z",
     "start_time": "2025-04-23T09:49:23.328747Z"
    }
   },
   "cell_type": "code",
   "source": "traffico.head()",
   "id": "cbdb6295a22daa82",
   "outputs": [
    {
     "data": {
      "text/plain": [
       "   device_id           timestamp_record        key  value  accuracy\n",
       "0      73224  2024-03-31 22:00:00+00:00  count_all   61.0        80\n",
       "1       1143  2024-03-31 22:00:00+00:00  count_all  116.0        98\n",
       "2      73223  2024-03-31 22:00:00+00:00  count_all   53.0        80\n",
       "3      73225  2024-03-31 22:00:00+00:00  count_all  116.0        80\n",
       "4       1145  2024-03-31 22:00:00+00:00  count_all  217.0       100"
      ],
      "text/html": [
       "<div>\n",
       "<style scoped>\n",
       "    .dataframe tbody tr th:only-of-type {\n",
       "        vertical-align: middle;\n",
       "    }\n",
       "\n",
       "    .dataframe tbody tr th {\n",
       "        vertical-align: top;\n",
       "    }\n",
       "\n",
       "    .dataframe thead th {\n",
       "        text-align: right;\n",
       "    }\n",
       "</style>\n",
       "<table border=\"1\" class=\"dataframe\">\n",
       "  <thead>\n",
       "    <tr style=\"text-align: right;\">\n",
       "      <th></th>\n",
       "      <th>device_id</th>\n",
       "      <th>timestamp_record</th>\n",
       "      <th>key</th>\n",
       "      <th>value</th>\n",
       "      <th>accuracy</th>\n",
       "    </tr>\n",
       "  </thead>\n",
       "  <tbody>\n",
       "    <tr>\n",
       "      <th>0</th>\n",
       "      <td>73224</td>\n",
       "      <td>2024-03-31 22:00:00+00:00</td>\n",
       "      <td>count_all</td>\n",
       "      <td>61.0</td>\n",
       "      <td>80</td>\n",
       "    </tr>\n",
       "    <tr>\n",
       "      <th>1</th>\n",
       "      <td>1143</td>\n",
       "      <td>2024-03-31 22:00:00+00:00</td>\n",
       "      <td>count_all</td>\n",
       "      <td>116.0</td>\n",
       "      <td>98</td>\n",
       "    </tr>\n",
       "    <tr>\n",
       "      <th>2</th>\n",
       "      <td>73223</td>\n",
       "      <td>2024-03-31 22:00:00+00:00</td>\n",
       "      <td>count_all</td>\n",
       "      <td>53.0</td>\n",
       "      <td>80</td>\n",
       "    </tr>\n",
       "    <tr>\n",
       "      <th>3</th>\n",
       "      <td>73225</td>\n",
       "      <td>2024-03-31 22:00:00+00:00</td>\n",
       "      <td>count_all</td>\n",
       "      <td>116.0</td>\n",
       "      <td>80</td>\n",
       "    </tr>\n",
       "    <tr>\n",
       "      <th>4</th>\n",
       "      <td>1145</td>\n",
       "      <td>2024-03-31 22:00:00+00:00</td>\n",
       "      <td>count_all</td>\n",
       "      <td>217.0</td>\n",
       "      <td>100</td>\n",
       "    </tr>\n",
       "  </tbody>\n",
       "</table>\n",
       "</div>"
      ]
     },
     "execution_count": 123,
     "metadata": {},
     "output_type": "execute_result"
    }
   ],
   "execution_count": 123
  },
  {
   "metadata": {
    "ExecuteTime": {
     "end_time": "2025-04-23T09:49:23.589446Z",
     "start_time": "2025-04-23T09:49:23.569214Z"
    }
   },
   "cell_type": "code",
   "source": [
    "segment = 73224\n",
    "group = traffico.groupby('device_id').get_group(segment)\n",
    "segment_73224 = group.copy()\n",
    "segment_73224.drop(columns=['device_id', 'key'], inplace=True)\n",
    "segment_73224['timestamp_record'] = pd.to_datetime(segment_73224['timestamp_record'])\n",
    "segment_73224.set_index('timestamp_record', inplace=True)\n",
    "segment_73224.sort_index(inplace=True)\n",
    "segment_73224.head()"
   ],
   "id": "af6cff6d1faf938d",
   "outputs": [
    {
     "data": {
      "text/plain": [
       "                           value  accuracy\n",
       "timestamp_record                          \n",
       "2024-03-31 22:00:00+00:00   61.0        80\n",
       "2024-03-31 23:00:00+00:00   40.0        80\n",
       "2024-04-01 00:00:00+00:00   35.0        80\n",
       "2024-04-01 01:00:00+00:00   85.0        80\n",
       "2024-04-01 02:00:00+00:00  104.0        80"
      ],
      "text/html": [
       "<div>\n",
       "<style scoped>\n",
       "    .dataframe tbody tr th:only-of-type {\n",
       "        vertical-align: middle;\n",
       "    }\n",
       "\n",
       "    .dataframe tbody tr th {\n",
       "        vertical-align: top;\n",
       "    }\n",
       "\n",
       "    .dataframe thead th {\n",
       "        text-align: right;\n",
       "    }\n",
       "</style>\n",
       "<table border=\"1\" class=\"dataframe\">\n",
       "  <thead>\n",
       "    <tr style=\"text-align: right;\">\n",
       "      <th></th>\n",
       "      <th>value</th>\n",
       "      <th>accuracy</th>\n",
       "    </tr>\n",
       "    <tr>\n",
       "      <th>timestamp_record</th>\n",
       "      <th></th>\n",
       "      <th></th>\n",
       "    </tr>\n",
       "  </thead>\n",
       "  <tbody>\n",
       "    <tr>\n",
       "      <th>2024-03-31 22:00:00+00:00</th>\n",
       "      <td>61.0</td>\n",
       "      <td>80</td>\n",
       "    </tr>\n",
       "    <tr>\n",
       "      <th>2024-03-31 23:00:00+00:00</th>\n",
       "      <td>40.0</td>\n",
       "      <td>80</td>\n",
       "    </tr>\n",
       "    <tr>\n",
       "      <th>2024-04-01 00:00:00+00:00</th>\n",
       "      <td>35.0</td>\n",
       "      <td>80</td>\n",
       "    </tr>\n",
       "    <tr>\n",
       "      <th>2024-04-01 01:00:00+00:00</th>\n",
       "      <td>85.0</td>\n",
       "      <td>80</td>\n",
       "    </tr>\n",
       "    <tr>\n",
       "      <th>2024-04-01 02:00:00+00:00</th>\n",
       "      <td>104.0</td>\n",
       "      <td>80</td>\n",
       "    </tr>\n",
       "  </tbody>\n",
       "</table>\n",
       "</div>"
      ]
     },
     "execution_count": 124,
     "metadata": {},
     "output_type": "execute_result"
    }
   ],
   "execution_count": 124
  },
  {
   "metadata": {
    "ExecuteTime": {
     "end_time": "2025-04-23T09:49:23.902481Z",
     "start_time": "2025-04-23T09:49:23.893306Z"
    }
   },
   "cell_type": "code",
   "source": [
    "daily_traffic_mean = segment_73224.resample('D').mean()\n",
    "df = daily_traffic_mean.join(pioggia, how='left')\n",
    "flag_rain = df['precip'] > 1"
   ],
   "id": "830884f72f403168",
   "outputs": [],
   "execution_count": 125
  },
  {
   "metadata": {
    "ExecuteTime": {
     "end_time": "2025-04-23T09:49:24.228084Z",
     "start_time": "2025-04-23T09:49:24.217832Z"
    }
   },
   "cell_type": "code",
   "source": [
    "# Statistiche medie del traffico\n",
    "traffic_mean_rain  = df.loc[flag_rain,  'value'].mean()\n",
    "traffic_mean_clear = df.loc[~flag_rain, 'value'].mean()\n",
    "traffic_dev_rain  = df.loc[flag_rain,  'value'].std()\n",
    "traffic_dev_clear = df.loc[~flag_rain, 'value'].std()"
   ],
   "id": "aac388a9bf0daf2e",
   "outputs": [],
   "execution_count": 126
  },
  {
   "metadata": {
    "ExecuteTime": {
     "end_time": "2025-04-23T09:49:29.639271Z",
     "start_time": "2025-04-23T09:49:29.628038Z"
    }
   },
   "cell_type": "code",
   "source": [
    "print(\"Traffico medio con pioggia:\", traffic_mean_rain)\n",
    "print(\"Traffico medio senza pioggia:\", traffic_mean_clear)\n",
    "print(\"Dev. Std. con pioggia:\", traffic_dev_rain)\n",
    "print(\"Dev. Std. senza pioggia:\", traffic_dev_clear)"
   ],
   "id": "9f678c5fb4fa3187",
   "outputs": [
    {
     "name": "stdout",
     "output_type": "stream",
     "text": [
      "Traffico medio con pioggia: 396.01130136986296\n",
      "Traffico medio senza pioggia: 411.46063631274495\n",
      "Dev. Std. con pioggia: 65.47208733088834\n",
      "Dev. Std. senza pioggia: 55.017673030256894\n"
     ]
    }
   ],
   "execution_count": 128
  },
  {
   "metadata": {
    "ExecuteTime": {
     "end_time": "2025-04-23T09:49:31.277412Z",
     "start_time": "2025-04-23T09:49:31.262084Z"
    }
   },
   "cell_type": "code",
   "source": [
    "bins   = [0, 0.1, 5, 10, 15, 20, 25, 30, np.inf]\n",
    "labels = ['0', '0.1-5', '5-10', '10-15', '15-20', '20-25', '25-30', '>30']\n",
    "\n",
    "df['rain_bin'] = pd.cut(df['precip'].fillna(0),\n",
    "                        bins=bins,\n",
    "                        labels=labels,\n",
    "                        right=False) \n",
    "\n",
    "stats = df.groupby('rain_bin', observed=True)['value'].agg(\n",
    "    mean_value='mean',\n",
    "    std_value='std',\n",
    "    n_days='count'\n",
    ")\n",
    "\n",
    "print(stats)"
   ],
   "id": "e9f88b1ed6991a21",
   "outputs": [
    {
     "name": "stdout",
     "output_type": "stream",
     "text": [
      "          mean_value  std_value  n_days\n",
      "rain_bin                               \n",
      "0         410.314109  55.253114     204\n",
      "0.1-5     418.861111  55.159679      42\n",
      "5-10      398.323718  87.509490      26\n",
      "10-15     388.937500  56.968441       6\n",
      "15-20     383.290625  34.355629       8\n",
      "20-25     387.011905  33.726498       7\n",
      "25-30     408.618056  46.285643       6\n",
      ">30       366.535714  50.895019       7\n"
     ]
    }
   ],
   "execution_count": 129
  },
  {
   "metadata": {},
   "cell_type": "code",
   "outputs": [],
   "execution_count": null,
   "source": "",
   "id": "2f03da997a65f265"
  }
 ],
 "metadata": {
  "kernelspec": {
   "display_name": "Python 3",
   "language": "python",
   "name": "python3"
  },
  "language_info": {
   "codemirror_mode": {
    "name": "ipython",
    "version": 2
   },
   "file_extension": ".py",
   "mimetype": "text/x-python",
   "name": "python",
   "nbconvert_exporter": "python",
   "pygments_lexer": "ipython2",
   "version": "2.7.6"
  }
 },
 "nbformat": 4,
 "nbformat_minor": 5
}
